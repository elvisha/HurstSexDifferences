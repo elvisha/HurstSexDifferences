{
 "cells": [
  {
   "cell_type": "code",
   "execution_count": null,
   "metadata": {},
   "outputs": [],
   "source": [
    "#load in modules and libraries\n",
    "import pandas as pd\n",
    "import numpy as np\n",
    "\n",
    "from sklearn.model_selection import train_test_split\n"
   ]
  },
  {
   "cell_type": "code",
   "execution_count": null,
   "metadata": {},
   "outputs": [],
   "source": [
    "#load in subj indices (num) and sex\n",
    "num = pd.read_csv('num.txt', header=None)\n",
    "num = num.values\n",
    "#sex is binary variable - i.e. males are '1', females are '0'\n",
    "sex = pd.read_csv('sex.txt', header=None)\n",
    "sex = sex.values"
   ]
  },
  {
   "cell_type": "code",
   "execution_count": null,
   "metadata": {},
   "outputs": [],
   "source": [
    "#x shoud be the num of permutations you want to do\n",
    "#y should be the num of subjects you want in your test set\n",
    "iterations=perm\n",
    "test_num=y\n",
    "test_idx=np.zeros([iterations,test_num])\n",
    "test_sex=np.zeros([iterations,test_num])\n",
    "\n",
    "for idx in range(iterations):\n",
    "    x_train, x_test, y_train, y_test = train_test_split(num, sex, test_size=0.2, random_state=idx, \n",
    "                                                    stratify=sex, shuffle=True)\n",
    "    test_idx[idx,:] = x_test.ravel()\n",
    "    test_sex[idx,:] = y_test.ravel()\n"
   ]
  },
  {
   "cell_type": "code",
   "execution_count": null,
   "metadata": {},
   "outputs": [],
   "source": [
    "np.savetxt('test_indices.txt', test_idx, delimiter=',')\n",
    "np.savetxt('test_sex.txt', test_sex, delimiter=',')"
   ]
  }
 ],
 "metadata": {
  "kernelspec": {
   "display_name": "Python 3",
   "language": "python",
   "name": "python3"
  },
  "language_info": {
   "codemirror_mode": {
    "name": "ipython",
    "version": 3
   },
   "file_extension": ".py",
   "mimetype": "text/x-python",
   "name": "python",
   "nbconvert_exporter": "python",
   "pygments_lexer": "ipython3",
   "version": "3.6.5"
  }
 },
 "nbformat": 4,
 "nbformat_minor": 2
}
 
